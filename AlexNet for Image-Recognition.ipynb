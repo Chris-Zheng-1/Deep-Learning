{
 "cells": [
  {
   "cell_type": "code",
   "execution_count": 36,
   "metadata": {},
   "outputs": [],
   "source": [
    "import os\n",
    "os.environ['KERAS_BACKEND']='tensorflow'\n",
    "from keras.datasets import mnist\n",
    "(x_train, labels_train), (x_test, labels_test) = mnist.load_data()\n",
    "x_train = x_train.astype('float32') \n",
    "x_test = x_test.astype('float32') \n",
    "x_train /= 255 \n",
    "x_test /= 255\n",
    "from keras.utils import to_categorical \n",
    "y_train = to_categorical(labels_train, 10) \n",
    "y_test = to_categorical(labels_test, 10)\n",
    "x_train = x_train.reshape(60000, 784) \n",
    "x_test = x_test.reshape(10000, 784)\n",
    "x_train = x_train.reshape(-1,28,28,1)\n",
    "x_test = x_test.reshape(-1,28,28,1)"
   ]
  },
  {
   "cell_type": "code",
   "execution_count": 40,
   "metadata": {},
   "outputs": [],
   "source": [
    "import keras\n",
    "from keras.utils import np_utils\n",
    "from keras.models import Sequential  \n",
    "from keras.layers import Input, Dense, Dropout, Activation,BatchNormalization\n",
    "from keras.models import Model\n",
    "from keras.optimizers import SGD\n",
    "from keras.datasets import mnist\n",
    "from keras.layers import Conv2D, MaxPooling2D, Flatten\n",
    "from keras.callbacks import ReduceLROnPlateau\n",
    "from keras.preprocessing.image import ImageDataGenerator\n",
    "import numpy as np\n",
    "import matplotlib.pyplot as plt\n",
    "%matplotlib inline"
   ]
  },
  {
   "cell_type": "code",
   "execution_count": 41,
   "metadata": {},
   "outputs": [],
   "source": [
    "class LossHistory(keras.callbacks.Callback):\n",
    "    def on_train_begin(self, logs={}):\n",
    "        self.losses = {'batch':[], 'epoch':[]}\n",
    "        self.accuracy = {'batch':[], 'epoch':[]}\n",
    "        self.val_loss = {'batch':[], 'epoch':[]}\n",
    "        self.val_acc = {'batch':[], 'epoch':[]}\n",
    " \n",
    "    def on_batch_end(self, batch, logs={}):\n",
    "        self.losses['batch'].append(logs.get('loss'))\n",
    "        self.accuracy['batch'].append(logs.get('acc'))\n",
    "        self.val_loss['batch'].append(logs.get('val_loss'))\n",
    "        self.val_acc['batch'].append(logs.get('val_acc'))\n",
    " \n",
    "    def on_epoch_end(self, batch, logs={}):\n",
    "        self.losses['epoch'].append(logs.get('loss'))\n",
    "        self.accuracy['epoch'].append(logs.get('acc'))\n",
    "        self.val_loss['epoch'].append(logs.get('val_loss'))\n",
    "        self.val_acc['epoch'].append(logs.get('val_acc'))\n",
    " \n",
    "    def loss_plot(self, loss_type):\n",
    "        iters = range(len(self.losses[loss_type]))\n",
    "        plt.figure()\n",
    "        # acc\n",
    "        plt.plot(iters, self.accuracy[loss_type], 'r', label='train acc')\n",
    "        # loss\n",
    "        plt.plot(iters, self.losses[loss_type], 'g', label='train loss')\n",
    "        if loss_type == 'epoch':\n",
    "            # val_acc\n",
    "            plt.plot(iters, self.val_acc[loss_type], 'b', label='val acc')\n",
    "            # val_loss\n",
    "            plt.plot(iters, self.val_loss[loss_type], 'k', label='val loss')\n",
    "        plt.grid(True)\n",
    "        plt.xlabel(loss_type)\n",
    "        plt.ylabel('acc-loss')\n",
    "        plt.legend(loc=\"upper right\")\n",
    "        plt.show()\n",
    "\n",
    "history = LossHistory()"
   ]
  },
  {
   "cell_type": "code",
   "execution_count": 42,
   "metadata": {},
   "outputs": [],
   "source": [
    "net = Sequential()\n",
    "net.add(Conv2D(32,(3,3), activation='relu', input_shape=(28,28,1)))\n",
    "net.add(BatchNormalization())\n",
    "net.add(MaxPooling2D(pool_size=(2, 2),strides=1))\n",
    "net.add(Conv2D(64,(3,3), activation='relu'))\n",
    "net.add(BatchNormalization())\n",
    "net.add(MaxPooling2D(pool_size=(2, 2)))\n",
    "net.add(Conv2D(128,(3,3), activation='relu'))\n",
    "net.add(BatchNormalization())\n",
    "net.add(MaxPooling2D(pool_size=(2, 2)))\n",
    "net.add(Conv2D(256,(3,3), activation='relu'))\n",
    "net.add(BatchNormalization())\n",
    "net.add(MaxPooling2D(pool_size=(2, 2)))\n",
    "net.add(Flatten())\n",
    "\n",
    "net.add(Dense(500)) \n",
    "net.add(BatchNormalization())\n",
    "net.add(Activation('relu')) \n",
    "net.add(Dropout(0.5)) \n",
    "\n",
    "net.add(Dense(500)) \n",
    "net.add(Activation('relu'))\n",
    "\n",
    "net.add(Dense(10))\n",
    "net.add(BatchNormalization())\n",
    "net.add(Activation('softmax'))\n",
    "net.compile(loss='categorical_crossentropy', optimizer='adam', metrics=['accuracy'])"
   ]
  },
  {
   "cell_type": "code",
   "execution_count": 51,
   "metadata": {},
   "outputs": [],
   "source": [
    "from keras.callbacks import LearningRateScheduler\n",
    "from keras import backend as K\n",
    "def scheduler(epoch):\n",
    "    if epoch % 5 == 0 and epoch != 0:\n",
    "        lr = K.get_value(net.optimizer.lr)\n",
    "        K.set_value(net.optimizer.lr,lr*0.5)\n",
    "        print(\"learning rate changed to {}\".format(lr*0.5))\n",
    "    return K.get_value(net.optimizer.lr)\n",
    "reduce_lr = LearningRateScheduler(scheduler)"
   ]
  },
  {
   "cell_type": "code",
   "execution_count": 49,
   "metadata": {},
   "outputs": [],
   "source": [
    "Data = ImageDataGenerator(\n",
    "    rotation_range=10,\n",
    "    zoom_range=0.1,\n",
    "    width_shift_range=0.1,\n",
    "    height_shift_range=0.1,\n",
    ")"
   ]
  },
  {
   "cell_type": "code",
   "execution_count": 55,
   "metadata": {},
   "outputs": [
    {
     "name": "stdout",
     "output_type": "stream",
     "text": [
      "Epoch 1/10\n",
      "600/600 [==============================] - 141s 235ms/step - loss: 0.0063 - accuracy: 0.9983 - val_loss: 0.0135 - val_accuracy: 0.9957\n",
      "Epoch 2/10\n",
      "600/600 [==============================] - 144s 240ms/step - loss: 0.0052 - accuracy: 0.9987 - val_loss: 0.0166 - val_accuracy: 0.9951\n",
      "Epoch 3/10\n",
      "600/600 [==============================] - 145s 241ms/step - loss: 0.0056 - accuracy: 0.9985 - val_loss: 0.0130 - val_accuracy: 0.9964\n",
      "Epoch 4/10\n",
      "600/600 [==============================] - 144s 240ms/step - loss: 0.0051 - accuracy: 0.9986 - val_loss: 0.0163 - val_accuracy: 0.9953\n",
      "Epoch 5/10\n",
      "600/600 [==============================] - 144s 240ms/step - loss: 0.0058 - accuracy: 0.9984 - val_loss: 0.0157 - val_accuracy: 0.9959\n",
      "Epoch 6/10\n",
      "learning rate changed to 0.0002500000118743628\n",
      "600/600 [==============================] - 141s 236ms/step - loss: 0.0047 - accuracy: 0.9986 - val_loss: 0.0158 - val_accuracy: 0.9958\n",
      "Epoch 7/10\n",
      "600/600 [==============================] - 142s 236ms/step - loss: 0.0045 - accuracy: 0.9987 - val_loss: 0.0159 - val_accuracy: 0.9959\n",
      "Epoch 8/10\n",
      "600/600 [==============================] - 141s 236ms/step - loss: 0.0051 - accuracy: 0.9986 - val_loss: 0.0155 - val_accuracy: 0.9960\n",
      "Epoch 9/10\n",
      "600/600 [==============================] - 142s 237ms/step - loss: 0.0041 - accuracy: 0.9988 - val_loss: 0.0146 - val_accuracy: 0.9966\n",
      "Epoch 10/10\n",
      "600/600 [==============================] - 142s 236ms/step - loss: 0.0041 - accuracy: 0.9988 - val_loss: 0.0153 - val_accuracy: 0.9965\n"
     ]
    },
    {
     "data": {
      "text/plain": [
       "<keras.callbacks.callbacks.History at 0x7f4c0d327790>"
      ]
     },
     "execution_count": 55,
     "metadata": {},
     "output_type": "execute_result"
    }
   ],
   "source": [
    "net.fit_generator(\n",
    "    Data.flow(x_train,y_train,batch_size = 100),\n",
    "    epochs = 10,\n",
    "    validation_data=(x_test,y_test),\n",
    "    verbose=1,\n",
    "    steps_per_epoch=x_train.shape[0]//100,\n",
    "    callbacks=[reduce_lr]\n",
    ")"
   ]
  },
  {
   "cell_type": "code",
   "execution_count": 56,
   "metadata": {},
   "outputs": [],
   "source": [
    "# save model\n",
    "net.save('test2.h5')"
   ]
  }
 ],
 "metadata": {
  "kernelspec": {
   "display_name": "Python 3",
   "language": "python",
   "name": "python3"
  },
  "language_info": {
   "codemirror_mode": {
    "name": "ipython",
    "version": 3
   },
   "file_extension": ".py",
   "mimetype": "text/x-python",
   "name": "python",
   "nbconvert_exporter": "python",
   "pygments_lexer": "ipython3",
   "version": "3.7.4"
  }
 },
 "nbformat": 4,
 "nbformat_minor": 2
}
